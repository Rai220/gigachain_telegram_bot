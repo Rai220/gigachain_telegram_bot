{
 "cells": [
  {
   "cell_type": "markdown",
   "metadata": {
    "collapsed": false
   },
   "source": [
    "# Генерация синтетического датасета\n",
    "В этом ноутбуке мы разберем генерацию синтетического датасета с помощью библиотеки `giskard`\n",
    "Библиотека `giskard` берет каждый документ в нашей векторной БД и генерирует вопросы по каждому документу с помощью 6 разных способов. (Мы будем использовать 5)\n",
    "Этот датасет мы будем использовать в дальнейшей оценке нашего RAG"
   ]
  },
  {
   "cell_type": "code",
   "execution_count": null,
   "metadata": {
    "collapsed": false,
    "pycharm": {
     "is_executing": true
    }
   },
   "outputs": [],
   "source": [
    "!pip install \"giskard[llm]\" pandas gigachain-community unstructured"
   ]
  },
  {
   "cell_type": "code",
   "execution_count": 1,
   "metadata": {
    "collapsed": true
   },
   "outputs": [
    {
     "data": {
      "text/plain": [
       "True"
      ]
     },
     "execution_count": 1,
     "metadata": {},
     "output_type": "execute_result"
    }
   ],
   "source": [
    "from dotenv import load_dotenv, find_dotenv\n",
    "load_dotenv(find_dotenv())"
   ]
  },
  {
   "cell_type": "markdown",
   "metadata": {
    "collapsed": false
   },
   "source": [
    "Загружаем документы"
   ]
  },
  {
   "cell_type": "code",
   "execution_count": 2,
   "metadata": {
    "collapsed": false
   },
   "outputs": [
    {
     "name": "stderr",
     "output_type": "stream",
     "text": [
      "18it [00:06,  2.82it/s]"
     ]
    },
    {
     "name": "stdout",
     "output_type": "stream",
     "text": [
      "Total documents: 53\n"
     ]
    },
    {
     "name": "stderr",
     "output_type": "stream",
     "text": [
      "\n"
     ]
    }
   ],
   "source": [
    "from giskard.rag import generate_testset, KnowledgeBase\n",
    "from langchain_community.document_loaders import UnstructuredMarkdownLoader\n",
    "import os\n",
    "import tqdm\n",
    "import pandas as pd\n",
    "markdown_path = \"../db_builder/mdx_docs/\"\n",
    "\n",
    "docuemnts = []\n",
    "# Iterate all mdx file in subdirectories\n",
    "for root, dirs, files in tqdm.tqdm(os.walk(markdown_path)):\n",
    "    for file in files:\n",
    "        if file.endswith(\".mdx\"):\n",
    "            loader = UnstructuredMarkdownLoader(os.path.join(root, file))\n",
    "            docuemnts.append(loader.load())\n",
    "print(f\"Total documents: {len(docuemnts)}\")"
   ]
  },
  {
   "cell_type": "markdown",
   "metadata": {
    "collapsed": false
   },
   "source": [
    "Нарезаем их"
   ]
  },
  {
   "cell_type": "code",
   "execution_count": 3,
   "metadata": {
    "collapsed": false
   },
   "outputs": [
    {
     "name": "stdout",
     "output_type": "stream",
     "text": [
      "Documents splited. Count: 56\n"
     ]
    }
   ],
   "source": [
    "from langchain.text_splitter import MarkdownTextSplitter\n",
    "\n",
    "docs_list = [item for sublist in docuemnts for item in sublist]\n",
    "text_splitter = MarkdownTextSplitter(chunk_size=16000, chunk_overlap=0)\n",
    "doc_splits = text_splitter.split_documents(docs_list)\n",
    "print(f\"Documents splited. Count: {len(doc_splits)}\")"
   ]
  },
  {
   "cell_type": "code",
   "execution_count": 4,
   "metadata": {
    "collapsed": false
   },
   "outputs": [
    {
     "data": {
      "text/html": [
       "<div>\n",
       "<style scoped>\n",
       "    .dataframe tbody tr th:only-of-type {\n",
       "        vertical-align: middle;\n",
       "    }\n",
       "\n",
       "    .dataframe tbody tr th {\n",
       "        vertical-align: top;\n",
       "    }\n",
       "\n",
       "    .dataframe thead th {\n",
       "        text-align: right;\n",
       "    }\n",
       "</style>\n",
       "<table border=\"1\" class=\"dataframe\">\n",
       "  <thead>\n",
       "    <tr style=\"text-align: right;\">\n",
       "      <th></th>\n",
       "      <th>text</th>\n",
       "    </tr>\n",
       "  </thead>\n",
       "  <tbody>\n",
       "    <tr>\n",
       "      <th>0</th>\n",
       "      <td>Как обновить GigaChain?\\n\\nВыполните команду b...</td>\n",
       "    </tr>\n",
       "    <tr>\n",
       "      <th>1</th>\n",
       "      <td>Общие понятия\\n\\nclient_id - идентификатор про...</td>\n",
       "    </tr>\n",
       "    <tr>\n",
       "      <th>2</th>\n",
       "      <td>GigaChat. Python-библиотека для GigaChain\\n\\nБ...</td>\n",
       "    </tr>\n",
       "    <tr>\n",
       "      <th>3</th>\n",
       "      <td>🦜️🔗 GigaChain (GigaChat + LangChain)\\n\\nБиблио...</td>\n",
       "    </tr>\n",
       "    <tr>\n",
       "      <th>4</th>\n",
       "      <td>Главная\\n\\nБаза знаний\\n\\nМедитация от страха ...</td>\n",
       "    </tr>\n",
       "    <tr>\n",
       "      <th>5</th>\n",
       "      <td>ИНТЕГРИРУЙТЕ ИИ В СВОЙ БИЗНЕС ================...</td>\n",
       "    </tr>\n",
       "    <tr>\n",
       "      <th>6</th>\n",
       "      <td>напарник в работе, учёбе и дома ==============...</td>\n",
       "    </tr>\n",
       "    <tr>\n",
       "      <th>7</th>\n",
       "      <td>Не работает GigaChat? Проверьте, что отключен ...</td>\n",
       "    </tr>\n",
       "    <tr>\n",
       "      <th>8</th>\n",
       "      <td>Вход в GigaChat\\n\\nПосле этого вы увидите окно...</td>\n",
       "    </tr>\n",
       "    <tr>\n",
       "      <th>9</th>\n",
       "      <td>Главная\\n\\nБаза знаний\\n\\nБаза знаний\\n\\nБАЗА ...</td>\n",
       "    </tr>\n",
       "  </tbody>\n",
       "</table>\n",
       "</div>"
      ],
      "text/plain": [
       "                                                text\n",
       "0  Как обновить GigaChain?\\n\\nВыполните команду b...\n",
       "1  Общие понятия\\n\\nclient_id - идентификатор про...\n",
       "2  GigaChat. Python-библиотека для GigaChain\\n\\nБ...\n",
       "3  🦜️🔗 GigaChain (GigaChat + LangChain)\\n\\nБиблио...\n",
       "4  Главная\\n\\nБаза знаний\\n\\nМедитация от страха ...\n",
       "5  ИНТЕГРИРУЙТЕ ИИ В СВОЙ БИЗНЕС ================...\n",
       "6  напарник в работе, учёбе и дома ==============...\n",
       "7  Не работает GigaChat? Проверьте, что отключен ...\n",
       "8  Вход в GigaChat\\n\\nПосле этого вы увидите окно...\n",
       "9  Главная\\n\\nБаза знаний\\n\\nБаза знаний\\n\\nБАЗА ..."
      ]
     },
     "execution_count": 4,
     "metadata": {},
     "output_type": "execute_result"
    }
   ],
   "source": [
    "df = pd.DataFrame([d.page_content for d in doc_splits[:]], columns=[\"text\"])\n",
    "df[:10]"
   ]
  },
  {
   "cell_type": "code",
   "execution_count": 5,
   "metadata": {
    "collapsed": false
   },
   "outputs": [],
   "source": [
    "import giskard\n",
    "giskard.llm.set_llm_model(\"gpt-4o\")"
   ]
  },
  {
   "cell_type": "markdown",
   "metadata": {
    "collapsed": false
   },
   "source": [
    "Генерируем датасет"
   ]
  },
  {
   "cell_type": "code",
   "execution_count": 6,
   "metadata": {
    "collapsed": false
   },
   "outputs": [
    {
     "name": "stdout",
     "output_type": "stream",
     "text": [
      "2024-09-17 14:23:32,821 pid:59036 MainThread giskard.rag  INFO     Finding topics in the knowledge base.\n",
      "2024-09-17 14:23:49,921 pid:59036 MainThread giskard.rag  INFO     Found 5 topics in the knowledge base.\n"
     ]
    },
    {
     "data": {
      "application/vnd.jupyter.widget-view+json": {
       "model_id": "0aceaed4dfd949ea929f83a1aeca1df8",
       "version_major": 2,
       "version_minor": 0
      },
      "text/plain": [
       "Generating questions:   0%|          | 0/75 [00:00<?, ?it/s]"
      ]
     },
     "metadata": {},
     "output_type": "display_data"
    }
   ],
   "source": [
    "from giskard.rag.question_generators import complex_questions, double_questions, distracting_questions, situational_questions, simple_questions\n",
    "knowledge_base = KnowledgeBase.from_pandas(df)\n",
    "\n",
    "testset = generate_testset(\n",
    "    knowledge_base,\n",
    "    question_generators=[simple_questions, complex_questions, double_questions, distracting_questions, situational_questions],\n",
    "    num_questions=75,\n",
    "    language='ru',  # optional, we'll auto detect if not provided\n",
    "    agent_description=\"Агент по технической поддержке большой языковой модели GigaChat и фреймворка GigaChain\", # helps generating better questions\n",
    ")"
   ]
  },
  {
   "cell_type": "markdown",
   "metadata": {
    "collapsed": false
   },
   "source": [
    "Сохраняем датасет"
   ]
  },
  {
   "cell_type": "code",
   "execution_count": 7,
   "metadata": {
    "collapsed": false
   },
   "outputs": [],
   "source": [
    "df = testset.to_pandas()"
   ]
  },
  {
   "cell_type": "code",
   "execution_count": 8,
   "metadata": {
    "collapsed": false
   },
   "outputs": [
    {
     "data": {
      "text/html": [
       "<div>\n",
       "<style scoped>\n",
       "    .dataframe tbody tr th:only-of-type {\n",
       "        vertical-align: middle;\n",
       "    }\n",
       "\n",
       "    .dataframe tbody tr th {\n",
       "        vertical-align: top;\n",
       "    }\n",
       "\n",
       "    .dataframe thead th {\n",
       "        text-align: right;\n",
       "    }\n",
       "</style>\n",
       "<table border=\"1\" class=\"dataframe\">\n",
       "  <thead>\n",
       "    <tr style=\"text-align: right;\">\n",
       "      <th></th>\n",
       "      <th>question</th>\n",
       "      <th>reference_answer</th>\n",
       "      <th>reference_context</th>\n",
       "      <th>conversation_history</th>\n",
       "      <th>metadata</th>\n",
       "    </tr>\n",
       "    <tr>\n",
       "      <th>id</th>\n",
       "      <th></th>\n",
       "      <th></th>\n",
       "      <th></th>\n",
       "      <th></th>\n",
       "      <th></th>\n",
       "    </tr>\n",
       "  </thead>\n",
       "  <tbody>\n",
       "    <tr>\n",
       "      <th>ff91f4fa-c316-4ae2-91e5-19a8b41cdbff</th>\n",
       "      <td>Какой тариф подключается по умолчанию для новы...</td>\n",
       "      <td>Каждому новому пользователю по умолчанию подкл...</td>\n",
       "      <td>Document 10: lastUpdateDate: 19 июля 2024\\n\\ni...</td>\n",
       "      <td>[]</td>\n",
       "      <td>{'question_type': 'simple', 'seed_document_id'...</td>\n",
       "    </tr>\n",
       "    <tr>\n",
       "      <th>0b23c7a3-0910-4442-8b46-edbb9fbee57b</th>\n",
       "      <td>Как долго действителен токен доступа для GigaC...</td>\n",
       "      <td>Токен действителен в течение 30 минут.</td>\n",
       "      <td>Document 15: lastUpdateDate: 24 июля 2024\\n\\nБ...</td>\n",
       "      <td>[]</td>\n",
       "      <td>{'question_type': 'simple', 'seed_document_id'...</td>\n",
       "    </tr>\n",
       "    <tr>\n",
       "      <th>1e15bd11-6e4d-475d-b35b-9f68bf4ea9c9</th>\n",
       "      <td>Какое значение имеет поле 'index' в ответе на ...</td>\n",
       "      <td>Индекс объекта с векторным представлением (пол...</td>\n",
       "      <td>Document 55: id: post-embeddings title: \"Созда...</td>\n",
       "      <td>[]</td>\n",
       "      <td>{'question_type': 'simple', 'seed_document_id'...</td>\n",
       "    </tr>\n",
       "    <tr>\n",
       "      <th>d91be405-ba32-42d5-b187-a35f92c51e19</th>\n",
       "      <td>Какой пример промпта используется для исправле...</td>\n",
       "      <td>json { \"model\": \"GigaChat\", \"messages\": [ { \"r...</td>\n",
       "      <td>Document 25: lastUpdateDate: 4 апреля 2024\\n\\n...</td>\n",
       "      <td>[]</td>\n",
       "      <td>{'question_type': 'simple', 'seed_document_id'...</td>\n",
       "    </tr>\n",
       "    <tr>\n",
       "      <th>ad302d4c-2c4a-4527-b495-9c71e02c9d7f</th>\n",
       "      <td>Какой URL используется для обращения к моделям...</td>\n",
       "      <td>Для обращения к моделям в раннем доступе испол...</td>\n",
       "      <td>Document 54: id: get-models title: \"Получить с...</td>\n",
       "      <td>[]</td>\n",
       "      <td>{'question_type': 'simple', 'seed_document_id'...</td>\n",
       "    </tr>\n",
       "    <tr>\n",
       "      <th>c26d5a7d-5d67-42b6-a430-13a69bdd142f</th>\n",
       "      <td>Что такое эмбеддинг и для чего он используется?</td>\n",
       "      <td>Эмбеддинг (англ. embedding) — это вектор в вид...</td>\n",
       "      <td>Document 55: id: post-embeddings title: \"Созда...</td>\n",
       "      <td>[]</td>\n",
       "      <td>{'question_type': 'simple', 'seed_document_id'...</td>\n",
       "    </tr>\n",
       "    <tr>\n",
       "      <th>f599aecb-5b75-4827-a9a4-0b70707c0cea</th>\n",
       "      <td>Как можно создать аудиомедитацию в GigaChat?</td>\n",
       "      <td>Чтобы создать медитацию с помощью GigaChat, не...</td>\n",
       "      <td>Document 4: Главная\\n\\nБаза знаний\\n\\nМедитаци...</td>\n",
       "      <td>[]</td>\n",
       "      <td>{'question_type': 'simple', 'seed_document_id'...</td>\n",
       "    </tr>\n",
       "    <tr>\n",
       "      <th>54411bb2-4593-4181-8b74-609d77459600</th>\n",
       "      <td>Какая структура промпта используется для генер...</td>\n",
       "      <td>json { \"model\": \"GigaChat\", \"messages\": [ { \"r...</td>\n",
       "      <td>Document 18: lastUpdateDate: 4 апреля 2024\\n\\n...</td>\n",
       "      <td>[]</td>\n",
       "      <td>{'question_type': 'simple', 'seed_document_id'...</td>\n",
       "    </tr>\n",
       "    <tr>\n",
       "      <th>893510b2-dc07-40b1-9f66-23cfe8bf9af8</th>\n",
       "      <td>Какой метод используется для подсчета количест...</td>\n",
       "      <td>Метод POST используется для подсчета количеств...</td>\n",
       "      <td>Document 52: id: post-tokens-count title: \"Под...</td>\n",
       "      <td>[]</td>\n",
       "      <td>{'question_type': 'simple', 'seed_document_id'...</td>\n",
       "    </tr>\n",
       "    <tr>\n",
       "      <th>ed079dec-1f02-4865-adb2-a2f0736ca0a6</th>\n",
       "      <td>Какой метод HTTP используется для получения из...</td>\n",
       "      <td>GET</td>\n",
       "      <td>Document 53: id: get-file-id title: \"Получить ...</td>\n",
       "      <td>[]</td>\n",
       "      <td>{'question_type': 'simple', 'seed_document_id'...</td>\n",
       "    </tr>\n",
       "  </tbody>\n",
       "</table>\n",
       "</div>"
      ],
      "text/plain": [
       "                                                                               question  \\\n",
       "id                                                                                        \n",
       "ff91f4fa-c316-4ae2-91e5-19a8b41cdbff  Какой тариф подключается по умолчанию для новы...   \n",
       "0b23c7a3-0910-4442-8b46-edbb9fbee57b  Как долго действителен токен доступа для GigaC...   \n",
       "1e15bd11-6e4d-475d-b35b-9f68bf4ea9c9  Какое значение имеет поле 'index' в ответе на ...   \n",
       "d91be405-ba32-42d5-b187-a35f92c51e19  Какой пример промпта используется для исправле...   \n",
       "ad302d4c-2c4a-4527-b495-9c71e02c9d7f  Какой URL используется для обращения к моделям...   \n",
       "c26d5a7d-5d67-42b6-a430-13a69bdd142f    Что такое эмбеддинг и для чего он используется?   \n",
       "f599aecb-5b75-4827-a9a4-0b70707c0cea       Как можно создать аудиомедитацию в GigaChat?   \n",
       "54411bb2-4593-4181-8b74-609d77459600  Какая структура промпта используется для генер...   \n",
       "893510b2-dc07-40b1-9f66-23cfe8bf9af8  Какой метод используется для подсчета количест...   \n",
       "ed079dec-1f02-4865-adb2-a2f0736ca0a6  Какой метод HTTP используется для получения из...   \n",
       "\n",
       "                                                                       reference_answer  \\\n",
       "id                                                                                        \n",
       "ff91f4fa-c316-4ae2-91e5-19a8b41cdbff  Каждому новому пользователю по умолчанию подкл...   \n",
       "0b23c7a3-0910-4442-8b46-edbb9fbee57b             Токен действителен в течение 30 минут.   \n",
       "1e15bd11-6e4d-475d-b35b-9f68bf4ea9c9  Индекс объекта с векторным представлением (пол...   \n",
       "d91be405-ba32-42d5-b187-a35f92c51e19  json { \"model\": \"GigaChat\", \"messages\": [ { \"r...   \n",
       "ad302d4c-2c4a-4527-b495-9c71e02c9d7f  Для обращения к моделям в раннем доступе испол...   \n",
       "c26d5a7d-5d67-42b6-a430-13a69bdd142f  Эмбеддинг (англ. embedding) — это вектор в вид...   \n",
       "f599aecb-5b75-4827-a9a4-0b70707c0cea  Чтобы создать медитацию с помощью GigaChat, не...   \n",
       "54411bb2-4593-4181-8b74-609d77459600  json { \"model\": \"GigaChat\", \"messages\": [ { \"r...   \n",
       "893510b2-dc07-40b1-9f66-23cfe8bf9af8  Метод POST используется для подсчета количеств...   \n",
       "ed079dec-1f02-4865-adb2-a2f0736ca0a6                                                GET   \n",
       "\n",
       "                                                                      reference_context  \\\n",
       "id                                                                                        \n",
       "ff91f4fa-c316-4ae2-91e5-19a8b41cdbff  Document 10: lastUpdateDate: 19 июля 2024\\n\\ni...   \n",
       "0b23c7a3-0910-4442-8b46-edbb9fbee57b  Document 15: lastUpdateDate: 24 июля 2024\\n\\nБ...   \n",
       "1e15bd11-6e4d-475d-b35b-9f68bf4ea9c9  Document 55: id: post-embeddings title: \"Созда...   \n",
       "d91be405-ba32-42d5-b187-a35f92c51e19  Document 25: lastUpdateDate: 4 апреля 2024\\n\\n...   \n",
       "ad302d4c-2c4a-4527-b495-9c71e02c9d7f  Document 54: id: get-models title: \"Получить с...   \n",
       "c26d5a7d-5d67-42b6-a430-13a69bdd142f  Document 55: id: post-embeddings title: \"Созда...   \n",
       "f599aecb-5b75-4827-a9a4-0b70707c0cea  Document 4: Главная\\n\\nБаза знаний\\n\\nМедитаци...   \n",
       "54411bb2-4593-4181-8b74-609d77459600  Document 18: lastUpdateDate: 4 апреля 2024\\n\\n...   \n",
       "893510b2-dc07-40b1-9f66-23cfe8bf9af8  Document 52: id: post-tokens-count title: \"Под...   \n",
       "ed079dec-1f02-4865-adb2-a2f0736ca0a6  Document 53: id: get-file-id title: \"Получить ...   \n",
       "\n",
       "                                     conversation_history  \\\n",
       "id                                                          \n",
       "ff91f4fa-c316-4ae2-91e5-19a8b41cdbff                   []   \n",
       "0b23c7a3-0910-4442-8b46-edbb9fbee57b                   []   \n",
       "1e15bd11-6e4d-475d-b35b-9f68bf4ea9c9                   []   \n",
       "d91be405-ba32-42d5-b187-a35f92c51e19                   []   \n",
       "ad302d4c-2c4a-4527-b495-9c71e02c9d7f                   []   \n",
       "c26d5a7d-5d67-42b6-a430-13a69bdd142f                   []   \n",
       "f599aecb-5b75-4827-a9a4-0b70707c0cea                   []   \n",
       "54411bb2-4593-4181-8b74-609d77459600                   []   \n",
       "893510b2-dc07-40b1-9f66-23cfe8bf9af8                   []   \n",
       "ed079dec-1f02-4865-adb2-a2f0736ca0a6                   []   \n",
       "\n",
       "                                                                               metadata  \n",
       "id                                                                                       \n",
       "ff91f4fa-c316-4ae2-91e5-19a8b41cdbff  {'question_type': 'simple', 'seed_document_id'...  \n",
       "0b23c7a3-0910-4442-8b46-edbb9fbee57b  {'question_type': 'simple', 'seed_document_id'...  \n",
       "1e15bd11-6e4d-475d-b35b-9f68bf4ea9c9  {'question_type': 'simple', 'seed_document_id'...  \n",
       "d91be405-ba32-42d5-b187-a35f92c51e19  {'question_type': 'simple', 'seed_document_id'...  \n",
       "ad302d4c-2c4a-4527-b495-9c71e02c9d7f  {'question_type': 'simple', 'seed_document_id'...  \n",
       "c26d5a7d-5d67-42b6-a430-13a69bdd142f  {'question_type': 'simple', 'seed_document_id'...  \n",
       "f599aecb-5b75-4827-a9a4-0b70707c0cea  {'question_type': 'simple', 'seed_document_id'...  \n",
       "54411bb2-4593-4181-8b74-609d77459600  {'question_type': 'simple', 'seed_document_id'...  \n",
       "893510b2-dc07-40b1-9f66-23cfe8bf9af8  {'question_type': 'simple', 'seed_document_id'...  \n",
       "ed079dec-1f02-4865-adb2-a2f0736ca0a6  {'question_type': 'simple', 'seed_document_id'...  "
      ]
     },
     "execution_count": 8,
     "metadata": {},
     "output_type": "execute_result"
    }
   ],
   "source": [
    "df[:10]"
   ]
  },
  {
   "cell_type": "code",
   "execution_count": 9,
   "metadata": {
    "collapsed": false
   },
   "outputs": [],
   "source": [
    "df.to_csv(\"dataset.csv\")"
   ]
  },
  {
   "cell_type": "markdown",
   "metadata": {
    "collapsed": false
   },
   "source": [
    "Ура! Мы сделали синтетический датасет. Теперь нужно его просмотреть, почистить и переходить к следующим шагам:\n",
    "1. [Загрузка датасета в GigaLogger](2_gigalogger_create_dataset.ipynb)\n",
    "2. [Прогон датасета и получение оценок ответам](3_evaluation.ipynb)"
   ]
  }
 ],
 "metadata": {
  "kernelspec": {
   "display_name": "Python 3",
   "language": "python",
   "name": "python3"
  },
  "language_info": {
   "codemirror_mode": {
    "name": "ipython",
    "version": 2
   },
   "file_extension": ".py",
   "mimetype": "text/x-python",
   "name": "python",
   "nbconvert_exporter": "python",
   "pygments_lexer": "ipython2",
   "version": "2.7.6"
  }
 },
 "nbformat": 4,
 "nbformat_minor": 0
}
