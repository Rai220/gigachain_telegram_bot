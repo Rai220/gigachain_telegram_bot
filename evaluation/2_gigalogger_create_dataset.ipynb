{
 "cells": [
  {
   "cell_type": "markdown",
   "metadata": {
    "collapsed": false
   },
   "source": [
    "# Загрузка датасета в GigaLogger\n",
    "В этом ноутбуке мы загрузим датасет для оценки в GigaLogger\n",
    "Датасет мы сгенерировали на прошлом шаге [generate_dataset.ipynb](generate_dataset.ipynb)\n",
    "После чего я его немного отчистил от плохо сгенерированных вопросов. Хороших вопросов вышло 35, при 40 сгенерированных."
   ]
  },
  {
   "cell_type": "code",
   "execution_count": null,
   "metadata": {
    "collapsed": false
   },
   "outputs": [],
   "source": [
    "!pip install pandas"
   ]
  },
  {
   "cell_type": "code",
   "execution_count": 15,
   "metadata": {},
   "outputs": [],
   "source": [
    "import os\n",
    "from dotenv import load_dotenv, find_dotenv\n",
    "import getpass\n",
    "\n",
    "def get_env_var(var_name):\n",
    "    if var_name in os.environ:\n",
    "        return os.environ[var_name]\n",
    "    else:\n",
    "        return getpass.getpass(f\"Enter {var_name}: \")\n",
    "\n",
    "load_dotenv(find_dotenv())\n",
    "os.environ[\"LANGFUSE_HOST\"] = \"https://gigalogger.demo.sberdevices.ru\"\n",
    "os.environ[\"LANGFUSE_PUBLIC_KEY\"] = get_env_var(\"LANGFUSE_PUBLIC_KEY\")\n",
    "os.environ[\"LANGFUSE_SECRET_KEY\"] = get_env_var(\"LANGFUSE_SECRET_KEY\")"
   ]
  },
  {
   "cell_type": "code",
   "execution_count": 17,
   "metadata": {
    "collapsed": false
   },
   "outputs": [
    {
     "name": "stderr",
     "output_type": "stream",
     "text": [
      "/var/folders/1m/7jmnmlbs2hsbw3qkcx46f0l86hy6kp/T/ipykernel_33105/2705017562.py:13: FutureWarning: Series.__getitem__ treating keys as positions is deprecated. In a future version, integer keys will always be treated as labels (consistent with DataFrame behavior). To access a value by position, use `ser.iloc[pos]`\n",
      "  input=row[1],\n",
      "/var/folders/1m/7jmnmlbs2hsbw3qkcx46f0l86hy6kp/T/ipykernel_33105/2705017562.py:14: FutureWarning: Series.__getitem__ treating keys as positions is deprecated. In a future version, integer keys will always be treated as labels (consistent with DataFrame behavior). To access a value by position, use `ser.iloc[pos]`\n",
      "  expected_output=row[2]\n"
     ]
    }
   ],
   "source": [
    "from langfuse import Langfuse\n",
    "import pandas as pd\n",
    "\n",
    "DATASET_NAME = \"rag_dataset\"\n",
    "\n",
    "langfuse = Langfuse()\n",
    "langfuse.create_dataset(name=DATASET_NAME)\n",
    "\n",
    "df = pd.read_csv(\"dataset_cleared.csv\")\n",
    "for index, row in df.iterrows():\n",
    "    langfuse.create_dataset_item(\n",
    "        dataset_name=DATASET_NAME,\n",
    "        input=row[1],\n",
    "        expected_output=row[2]\n",
    "    )\n"
   ]
  },
  {
   "cell_type": "markdown",
   "metadata": {
    "collapsed": false
   },
   "source": [
    "Ура! Мы создали датасет. В [следующем шаге](evaluation.ipynb) мы рассмотрим как оценивать наш RAG с помощью него.\n",
    "\n",
    "Посмотреть созданный датасет можно тут: https://gigalogger.demo.sberdevices.ru/\n",
    "![image.png](media/dataset_screen.png)"
   ]
  }
 ],
 "metadata": {
  "kernelspec": {
   "display_name": "Python 3",
   "language": "python",
   "name": "python3"
  },
  "language_info": {
   "codemirror_mode": {
    "name": "ipython",
    "version": 3
   },
   "file_extension": ".py",
   "mimetype": "text/x-python",
   "name": "python",
   "nbconvert_exporter": "python",
   "pygments_lexer": "ipython3",
   "version": "3.12.5"
  }
 },
 "nbformat": 4,
 "nbformat_minor": 0
}
