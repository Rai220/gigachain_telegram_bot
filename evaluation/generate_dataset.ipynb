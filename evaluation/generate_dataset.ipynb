{
 "cells": [
  {
   "cell_type": "markdown",
   "source": [
    "# Генерация синтетического датасета\n",
    "В этом ноутбуке мы разберем генерацию синтетического датасета с помощью библиотеки `giskard`\n",
    "Библиотека `giskard` берет каждый документ в нашей векторной БД и генерирует вопросы по каждому документу с помощью 6 разных способов. (Мы будем использовать 5)\n",
    "Этот датасет мы будем использовать в дальнейшей оценке нашего RAG"
   ],
   "metadata": {
    "collapsed": false
   }
  },
  {
   "cell_type": "code",
   "execution_count": 8,
   "outputs": [
    {
     "name": "stdout",
     "output_type": "stream",
     "text": [
      "Successfully installed bert-score-0.3.13 bokeh-3.4.3 contourpy-1.3.0 cycler-0.12.1 datasets-2.21.0 deepdiff-8.0.1 dill-0.3.8 emoji-2.12.1 evaluate-0.4.2 faiss-cpu-1.8.0 filelock-3.15.4 filetype-1.2.0 fonttools-4.53.1 fsspec-2024.6.1 huggingface-hub-0.24.6 importlib-resources-6.4.4 jsonpath-python-1.0.6 kiwisolver-1.4.7 llvmlite-0.43.0 lxml-5.3.0 matplotlib-3.9.2 mpmath-1.3.0 multiprocess-0.70.16 networkx-3.2.1 nltk-3.9.1 numba-0.60.0 olefile-0.47 orderly-set-5.2.2 pillow-10.4.0 pyarrow-17.0.0 pynndescent-0.5.13 pyparsing-3.1.4 pypdf-4.3.1 python-iso639-2024.4.27 python-magic-0.4.27 python-oxmsg-0.0.1 rapidfuzz-3.9.7 safetensors-0.4.5 sympy-1.13.2 tabulate-0.9.0 tokenizers-0.19.1 torch-2.2.2 transformers-4.44.2 umap-learn-0.5.6 unstructured-0.15.9 unstructured-client-0.25.7 xyzservices-2024.9.0\r\n",
      "\u001B[33mWARNING: You are using pip version 21.3.1; however, version 24.2 is available.\r\n",
      "You should consider upgrading via the '/Users/mikelarg/Projects/gigachain_telegram_bot/.venv/bin/python -m pip install --upgrade pip' command.\u001B[0m\r\n"
     ]
    }
   ],
   "source": [
    "!pip install \"giskard[llm]\" pandas gigachain-community unstructured"
   ],
   "metadata": {
    "collapsed": false
   }
  },
  {
   "cell_type": "code",
   "execution_count": null,
   "metadata": {
    "collapsed": true,
    "pycharm": {
     "is_executing": true
    }
   },
   "outputs": [],
   "source": [
    "from dotenv import load_dotenv, find_dotenv\n",
    "load_dotenv(find_dotenv())"
   ]
  },
  {
   "cell_type": "markdown",
   "source": [
    "Загружаем документы"
   ],
   "metadata": {
    "collapsed": false
   }
  },
  {
   "cell_type": "code",
   "execution_count": 9,
   "outputs": [
    {
     "name": "stderr",
     "output_type": "stream",
     "text": [
      "18it [00:07,  2.48it/s]"
     ]
    },
    {
     "name": "stdout",
     "output_type": "stream",
     "text": [
      "Total documents: 53\n"
     ]
    },
    {
     "name": "stderr",
     "output_type": "stream",
     "text": [
      "\n"
     ]
    }
   ],
   "source": [
    "from giskard.rag import generate_testset, KnowledgeBase\n",
    "from langchain_community.document_loaders import UnstructuredMarkdownLoader\n",
    "import os\n",
    "import tqdm\n",
    "import pandas as pd\n",
    "markdown_path = \"../db_builder/mdx_docs/\"\n",
    "\n",
    "docuemnts = []\n",
    "# Iterate all mdx file in subdirectories\n",
    "for root, dirs, files in tqdm.tqdm(os.walk(markdown_path)):\n",
    "    for file in files:\n",
    "        if file.endswith(\".mdx\"):\n",
    "            loader = UnstructuredMarkdownLoader(os.path.join(root, file))\n",
    "            docuemnts.append(loader.load())\n",
    "print(f\"Total documents: {len(docuemnts)}\")"
   ],
   "metadata": {
    "collapsed": false
   }
  },
  {
   "cell_type": "markdown",
   "source": [
    "Нарезаем их"
   ],
   "metadata": {
    "collapsed": false
   }
  },
  {
   "cell_type": "code",
   "execution_count": 10,
   "outputs": [
    {
     "name": "stdout",
     "output_type": "stream",
     "text": [
      "Documents splited. Count: 56\n"
     ]
    }
   ],
   "source": [
    "from langchain.text_splitter import RecursiveCharacterTextSplitter\n",
    "\n",
    "docs_list = [item for sublist in docuemnts for item in sublist]\n",
    "text_splitter = RecursiveCharacterTextSplitter(chunk_size=16000, chunk_overlap=0)\n",
    "doc_splits = text_splitter.split_documents(docs_list)\n",
    "print(f\"Documents splited. Count: {len(doc_splits)}\")"
   ],
   "metadata": {
    "collapsed": false
   }
  },
  {
   "cell_type": "markdown",
   "source": [
    "Берем первые 15 документов (не будем брать все — этот датасет нужен пока только для показа)"
   ],
   "metadata": {
    "collapsed": false
   }
  },
  {
   "cell_type": "code",
   "execution_count": 11,
   "outputs": [
    {
     "data": {
      "text/plain": "                                                 text\n0   Как обновить GigaChain?\\n\\nВыполните команду b...\n1   Общие понятия\\n\\nclient_id - идентификатор про...\n2   GigaChat. Python-библиотека для GigaChain\\n\\nБ...\n3   🦜️🔗 GigaChain (GigaChat + LangChain)\\n\\nБиблио...\n4   Главная\\n\\nБаза знаний\\n\\nМедитация от страха ...\n5   ИНТЕГРИРУЙТЕ ИИ В СВОЙ БИЗНЕС ================...\n6   напарник в работе, учёбе и дома ==============...\n7   Не работает GigaChat? Проверьте, что отключен ...\n8   Вход в GigaChat\\n\\nПосле этого вы увидите окно...\n9   Главная\\n\\nБаза знаний\\n\\nБаза знаний\\n\\nБАЗА ...\n10  lastUpdateDate: 19 июля 2024\\n\\nimport TesterS...\n11  lastUpdateDate: 5 августа 2024\\n\\nМодели GigaC...\n12  lastUpdateDate: 27 февраля 2024\\n\\nКвоты и огр...\n13  lastUpdateDate: 6 мая 2024\\n\\nВозможности Giga...\n14  lastUpdateDate: 23 мая 2024\\n\\nСоздание промпт...",
      "text/html": "<div>\n<style scoped>\n    .dataframe tbody tr th:only-of-type {\n        vertical-align: middle;\n    }\n\n    .dataframe tbody tr th {\n        vertical-align: top;\n    }\n\n    .dataframe thead th {\n        text-align: right;\n    }\n</style>\n<table border=\"1\" class=\"dataframe\">\n  <thead>\n    <tr style=\"text-align: right;\">\n      <th></th>\n      <th>text</th>\n    </tr>\n  </thead>\n  <tbody>\n    <tr>\n      <th>0</th>\n      <td>Как обновить GigaChain?\\n\\nВыполните команду b...</td>\n    </tr>\n    <tr>\n      <th>1</th>\n      <td>Общие понятия\\n\\nclient_id - идентификатор про...</td>\n    </tr>\n    <tr>\n      <th>2</th>\n      <td>GigaChat. Python-библиотека для GigaChain\\n\\nБ...</td>\n    </tr>\n    <tr>\n      <th>3</th>\n      <td>🦜️🔗 GigaChain (GigaChat + LangChain)\\n\\nБиблио...</td>\n    </tr>\n    <tr>\n      <th>4</th>\n      <td>Главная\\n\\nБаза знаний\\n\\nМедитация от страха ...</td>\n    </tr>\n    <tr>\n      <th>5</th>\n      <td>ИНТЕГРИРУЙТЕ ИИ В СВОЙ БИЗНЕС ================...</td>\n    </tr>\n    <tr>\n      <th>6</th>\n      <td>напарник в работе, учёбе и дома ==============...</td>\n    </tr>\n    <tr>\n      <th>7</th>\n      <td>Не работает GigaChat? Проверьте, что отключен ...</td>\n    </tr>\n    <tr>\n      <th>8</th>\n      <td>Вход в GigaChat\\n\\nПосле этого вы увидите окно...</td>\n    </tr>\n    <tr>\n      <th>9</th>\n      <td>Главная\\n\\nБаза знаний\\n\\nБаза знаний\\n\\nБАЗА ...</td>\n    </tr>\n    <tr>\n      <th>10</th>\n      <td>lastUpdateDate: 19 июля 2024\\n\\nimport TesterS...</td>\n    </tr>\n    <tr>\n      <th>11</th>\n      <td>lastUpdateDate: 5 августа 2024\\n\\nМодели GigaC...</td>\n    </tr>\n    <tr>\n      <th>12</th>\n      <td>lastUpdateDate: 27 февраля 2024\\n\\nКвоты и огр...</td>\n    </tr>\n    <tr>\n      <th>13</th>\n      <td>lastUpdateDate: 6 мая 2024\\n\\nВозможности Giga...</td>\n    </tr>\n    <tr>\n      <th>14</th>\n      <td>lastUpdateDate: 23 мая 2024\\n\\nСоздание промпт...</td>\n    </tr>\n  </tbody>\n</table>\n</div>"
     },
     "execution_count": 11,
     "metadata": {},
     "output_type": "execute_result"
    }
   ],
   "source": [
    "df = pd.DataFrame([d.page_content for d in doc_splits[:15]], columns=[\"text\"])\n",
    "df"
   ],
   "metadata": {
    "collapsed": false
   }
  },
  {
   "cell_type": "code",
   "execution_count": 12,
   "outputs": [],
   "source": [
    "import giskard\n",
    "giskard.llm.set_llm_model(\"gpt-4o\")"
   ],
   "metadata": {
    "collapsed": false
   }
  },
  {
   "cell_type": "markdown",
   "source": [
    "Генерируем датасет"
   ],
   "metadata": {
    "collapsed": false
   }
  },
  {
   "cell_type": "code",
   "execution_count": 13,
   "outputs": [
    {
     "name": "stdout",
     "output_type": "stream",
     "text": [
      "2024-09-06 16:06:44,925 pid:4465 MainThread giskard.rag  INFO     Finding topics in the knowledge base.\n"
     ]
    },
    {
     "name": "stderr",
     "output_type": "stream",
     "text": [
      "/Users/mikelarg/Projects/gigachain_telegram_bot/.venv/lib/python3.9/site-packages/umap/umap_.py:2437: UserWarning: n_neighbors is larger than the dataset size; truncating to X.shape[0] - 1\n",
      "  warn(\n"
     ]
    },
    {
     "name": "stdout",
     "output_type": "stream",
     "text": [
      "2024-09-06 16:06:53,972 pid:4465 MainThread giskard.rag  INFO     Found 1 topics in the knowledge base.\n"
     ]
    },
    {
     "data": {
      "text/plain": "Generating questions:   0%|          | 0/40 [00:00<?, ?it/s]",
      "application/vnd.jupyter.widget-view+json": {
       "version_major": 2,
       "version_minor": 0,
       "model_id": "d9b413aa435745fc83d05481d9c17ea1"
      }
     },
     "metadata": {},
     "output_type": "display_data"
    }
   ],
   "source": [
    "from giskard.rag.question_generators import complex_questions, double_questions, distracting_questions, situational_questions, simple_questions\n",
    "knowledge_base = KnowledgeBase.from_pandas(df)\n",
    "\n",
    "testset = generate_testset(\n",
    "    knowledge_base,\n",
    "    question_generators=[simple_questions, complex_questions, double_questions, distracting_questions, situational_questions],\n",
    "    num_questions=40,\n",
    "    language='ru',  # optional, we'll auto detect if not provided\n",
    "    agent_description=\"Агент по технической поддержке большой языковой модели GigaChat и фреймворка GigaChain\", # helps generating better questions\n",
    ")"
   ],
   "metadata": {
    "collapsed": false
   }
  },
  {
   "cell_type": "markdown",
   "source": [
    "Сохраняем датасет"
   ],
   "metadata": {
    "collapsed": false
   }
  },
  {
   "cell_type": "code",
   "execution_count": 19,
   "outputs": [],
   "source": [
    "df = testset.to_pandas()"
   ],
   "metadata": {
    "collapsed": false
   }
  },
  {
   "cell_type": "code",
   "execution_count": 20,
   "outputs": [
    {
     "data": {
      "text/plain": "                                                                               question  \\\nid                                                                                        \n10733a5f-9a97-4def-a994-68f9edf44da5    Какие модели доступны для генерации в GigaChat?   \n2af539e9-a78a-4bde-953c-4c794d5c58d7  Как долго действителен токен доступа для GigaC...   \nc04713dc-7002-42da-a6b9-0809d7c912cb  Как создать проект GigaChat API для физических...   \nf2fe07e2-3c80-4448-b46f-21c7ba4df54b                 Какие языки поддерживает GigaChat?   \n16a1b9a7-da66-4292-8b0d-d9e6a6c7b404  Что такое GigaChain и какие возможности он пре...   \nc181c8d4-84db-40a0-bdc7-1e67d48d18a7  Какое количество потоков доступно физическим л...   \n49d583f6-0cf2-4773-9e62-4e5bb8d4dff0                        Как можно войти в GigaChat?   \n8fa3b156-11eb-41a0-8caa-b902b7132808   Какие задачи может выполнять GigaChat в бизнесе?   \n9a5c5e8a-c7b5-4267-9bad-6166e33eb4d0  Какие конкретные механизмы медитации способств...   \n763c3dcd-c86f-47af-8c00-1207e3c18179  Какие шаги необходимо выполнить для обновления...   \ncb298239-8161-46b0-b1c9-26cb77d9530d  Какие существуют способы входа в GigaChat, есл...   \nd791e3c4-d02c-4c78-b7e8-4b6ff7faf73b  Какие шаги необходимо выполнить юридическим ли...   \n6e5b2362-1408-4f6e-933a-03abb608f4dd  Какие бизнес-задачи может автоматизировать Gig...   \neb5a7fd0-70cf-4fc0-8fd5-294f2f00ac59  Объясните, почему GigaChat даёт разные ответы ...   \n452d426f-98e4-456b-bec6-be97033169d7  Перечислите компоненты, которые входят в соста...   \nb2000a0c-afca-4afd-bb04-3c34e4672ace  Какие конкретные задачи в бизнесе может выполн...   \n4689736c-9e69-41e6-882b-05f8e88d804b  Как обновить GigaChain и как установить LangGr...   \n3bf6d35b-f094-4d83-9040-51ab83c829d4  Какие способы входа в GigaChat существуют и чт...   \n8e457e84-42b5-4d43-837e-68da91eb3e45  Какие модальности поддерживает GigaChat и как ...   \nde3ecd32-8a1d-44a6-8c2b-8d9bbdb5d629  Что такое client_id и где его найти, и как мож...   \n02dc97ec-7f7b-46c6-a7dc-255860287e50  Какие задачи может автоматизировать GigaChat в...   \n9205705b-0208-42de-8eea-c7e7c6ac33ab  Какие языки поддерживает GigaChat и какую моде...   \n7f5239ee-0bc3-4a50-947c-38ca2a5e503e  Какие методы авторизации поддерживает библиоте...   \n99ada339-ead7-47b5-b1ec-901fd0d33a46  Как детализация указаний влияет на точность от...   \nfd425afb-2450-4700-a5ce-79ede3a2140e  Как можно повысить вероятность получения подхо...   \nd4d3de2a-f4a6-4d2e-8848-2457946e903e  Какие модели доступны для генерации текста в с...   \n56757e66-ca1f-4f45-b8b9-4eb67539e905  Какие языки поддерживает GigaChat, если пользо...   \n35d1401f-0244-4df8-b5f4-236f68aea208  Какая поза рекомендуется для медитации от стра...   \n5bba4617-ee9c-49ab-ad08-1f18132e0941  Какие задачи помогает решать библиотека GigaCh...   \nbff68126-9e59-43ea-b2a4-f0d3db063665  Какие позы для медитации от страха и тревоги р...   \n62f5c1c4-93f8-4200-8471-27f17692ae52  Какие шаги необходимо выполнить для входа в Gi...   \n6e30e080-ddd1-40f8-882c-b3965a70b5c4  Как обновить GigaChain, если у меня уже устано...   \n9215f76a-76c7-4025-9cba-3b256bfce373  Менеджер крупного банка здесь. Обучаю новых со...   \n5334a256-f72b-41a9-9781-eb7ca3d3b60d  Привет! Я интегрирую нейросетевую модель GigaC...   \n581cd5db-ac3a-4055-a6fa-b16635319300  Здравствуйте, я менеджер по продукту в крупном...   \nd917f355-3522-46c0-a096-a9668a48a440  Привет, я разрабатываю приложение и пытаюсь ин...   \n2dab3120-87ac-4358-91c9-b2d8b1af82eb  Здравствуйте! Я работаю над созданием нового а...   \n23669d3b-687e-4d61-99f8-0fd8ea899e38  Здравствуйте, подскажите, пожалуйста, как обно...   \nd2a1fadb-803c-4dff-8329-31d54334b82c  Здравствуйте! Я финансовый аналитик, и наша фи...   \n157a1e61-b9a0-4478-887d-28ad46814f9e  Привет! Я готовлюсь к миграции проекта с LangC...   \n\n                                                                       reference_answer  \\\nid                                                                                        \n10733a5f-9a97-4def-a994-68f9edf44da5  Для генерации доступны модели: GigaChat Lite, ...   \n2af539e9-a78a-4bde-953c-4c794d5c58d7             Токен действителен в течение 30 минут.   \nc04713dc-7002-42da-a6b9-0809d7c912cb  Для создания проекта GigaChat API для физическ...   \nf2fe07e2-3c80-4448-b46f-21c7ba4df54b  GigaChat поддерживает русский и английский языки.   \n16a1b9a7-da66-4292-8b0d-d9e6a6c7b404  GigaChain это фреймворк для разработки приложе...   \nc181c8d4-84db-40a0-bdc7-1e67d48d18a7  Физическим лицам для работы с API доступен оди...   \n49d583f6-0cf2-4773-9e62-4e5bb8d4dff0  Войти в GigaChat можно двумя способами — по те...   \n8fa3b156-11eb-41a0-8caa-b902b7132808  GigaChat может выполнять различные задачи в би...   \n9a5c5e8a-c7b5-4267-9bad-6166e33eb4d0  Медитация — это оздоровительная психологическа...   \n763c3dcd-c86f-47af-8c00-1207e3c18179  Выполните команду bash pip install -U gigachai...   \ncb298239-8161-46b0-b1c9-26cb77d9530d  Войти в GigaChat можно двумя способами — по те...   \nd791e3c4-d02c-4c78-b7e8-4b6ff7faf73b  Цензор может быть отключен только для юридичес...   \n6e5b2362-1408-4f6e-933a-03abb608f4dd  GigaChat может выполнять следующие задачи для ...   \neb5a7fd0-70cf-4fc0-8fd5-294f2f00ac59  Даже если спрашивать GigaChat одно и то же, ка...   \n452d426f-98e4-456b-bec6-be97033169d7  Фреймворк включает: Библиотеку GigaChain, Хаб ...   \nb2000a0c-afca-4afd-bb04-3c34e4672ace  GigaChat может выполнять множество задач в биз...   \n4689736c-9e69-41e6-882b-05f8e88d804b  Для обновления GigaChain выполните команду bas...   \n3bf6d35b-f094-4d83-9040-51ab83c829d4  Войти в GigaChat можно двумя способами — по те...   \n8e457e84-42b5-4d43-837e-68da91eb3e45  Кроме текстовой модальности в GigaChat уже раб...   \nde3ecd32-8a1d-44a6-8c2b-8d9bbdb5d629  client_id - идентификатор проекта ГигаЧат АПИ,...   \n02dc97ec-7f7b-46c6-a7dc-255860287e50  GigaChat обрабатывает данные и выдаёт финансов...   \n9205705b-0208-42de-8eea-c7e7c6ac33ab  GigaChat поддерживает русский и английский язы...   \n7f5239ee-0bc3-4a50-947c-38ca2a5e503e  Библиотека GigaChat поддерживает авторизацию с...   \n99ada339-ead7-47b5-b1ec-901fd0d33a46  Чем более подробную инструкцию вы дадите серви...   \nfd425afb-2450-4700-a5ce-79ede3a2140e  Создавайте промпты с учетом приведенных рекоме...   \nd4d3de2a-f4a6-4d2e-8848-2457946e903e  Для генерации доступны модели: GigaChat Lite, ...   \n56757e66-ca1f-4f45-b8b9-4eb67539e905  GigaChat поддерживает русский и английский языки.   \n35d1401f-0244-4df8-b5f4-236f68aea208  Если вы сидите, то стопы должны полностью каса...   \n5bba4617-ee9c-49ab-ad08-1f18132e0941  Библиотека упростит интеграцию вашего приложен...   \nbff68126-9e59-43ea-b2a4-f0d3db063665  Если вы сидите, то стопы должны полностью каса...   \n62f5c1c4-93f8-4200-8471-27f17692ae52  Справа в окне авторизации находится QR-код, ко...   \n6e30e080-ddd1-40f8-882c-b3965a70b5c4  Выполните команду bash pip install -U gigachai...   \n9215f76a-76c7-4025-9cba-3b256bfce373  В юридической сфере GigaChat может выполнять у...   \n5334a256-f72b-41a9-9781-eb7ca3d3b60d  Для отключения проверки сертификатов передайте...   \n581cd5db-ac3a-4055-a6fa-b16635319300  Даже если спрашивать GigaChat одно и то же, ка...   \nd917f355-3522-46c0-a096-a9668a48a440  Чат-бот на базе GigaChat с потоковой генерацие...   \n2dab3120-87ac-4358-91c9-b2d8b1af82eb  GigaChain это фреймворк для разработки приложе...   \n23669d3b-687e-4d61-99f8-0fd8ea899e38  Выполните команду bash pip install -U gigachai...   \nd2a1fadb-803c-4dff-8329-31d54334b82c  GigaChat может ускорить процессы, автоматизиро...   \n157a1e61-b9a0-4478-887d-28ad46814f9e  Выполните команду bash pip install -U gigachai...   \n\n                                                                      reference_context  \\\nid                                                                                        \n10733a5f-9a97-4def-a994-68f9edf44da5  Document 11: lastUpdateDate: 5 августа 2024\\n\\...   \n2af539e9-a78a-4bde-953c-4c794d5c58d7  Document 10: lastUpdateDate: 19 июля 2024\\n\\ni...   \nc04713dc-7002-42da-a6b9-0809d7c912cb  Document 10: lastUpdateDate: 19 июля 2024\\n\\ni...   \nf2fe07e2-3c80-4448-b46f-21c7ba4df54b  Document 11: lastUpdateDate: 5 августа 2024\\n\\...   \n16a1b9a7-da66-4292-8b0d-d9e6a6c7b404  Document 3: 🦜️🔗 GigaChain (GigaChat + LangChai...   \nc181c8d4-84db-40a0-bdc7-1e67d48d18a7  Document 12: lastUpdateDate: 27 февраля 2024\\n...   \n49d583f6-0cf2-4773-9e62-4e5bb8d4dff0  Document 8: Вход в GigaChat\\n\\nПосле этого вы ...   \n8fa3b156-11eb-41a0-8caa-b902b7132808  Document 9: Главная\\n\\nБаза знаний\\n\\nБаза зна...   \n9a5c5e8a-c7b5-4267-9bad-6166e33eb4d0  Document 4: Главная\\n\\nБаза знаний\\n\\nМедитаци...   \n763c3dcd-c86f-47af-8c00-1207e3c18179  Document 0: Как обновить GigaChain?\\n\\nВыполни...   \ncb298239-8161-46b0-b1c9-26cb77d9530d  Document 8: Вход в GigaChat\\n\\nПосле этого вы ...   \nd791e3c4-d02c-4c78-b7e8-4b6ff7faf73b  Document 1: Общие понятия\\n\\nclient_id - идент...   \n6e5b2362-1408-4f6e-933a-03abb608f4dd  Document 6: напарник в работе, учёбе и дома ==...   \neb5a7fd0-70cf-4fc0-8fd5-294f2f00ac59  Document 6: напарник в работе, учёбе и дома ==...   \n452d426f-98e4-456b-bec6-be97033169d7  Document 3: 🦜️🔗 GigaChain (GigaChat + LangChai...   \nb2000a0c-afca-4afd-bb04-3c34e4672ace  Document 5: ИНТЕГРИРУЙТЕ ИИ В СВОЙ БИЗНЕС ====...   \n4689736c-9e69-41e6-882b-05f8e88d804b  Document 0: Как обновить GigaChain?\\n\\nВыполни...   \n3bf6d35b-f094-4d83-9040-51ab83c829d4  Document 8: Вход в GigaChat\\n\\nПосле этого вы ...   \n8e457e84-42b5-4d43-837e-68da91eb3e45  Document 13: lastUpdateDate: 6 мая 2024\\n\\nВоз...   \nde3ecd32-8a1d-44a6-8c2b-8d9bbdb5d629  Document 1: Общие понятия\\n\\nclient_id - идент...   \n02dc97ec-7f7b-46c6-a7dc-255860287e50  Document 5: ИНТЕГРИРУЙТЕ ИИ В СВОЙ БИЗНЕС ====...   \n9205705b-0208-42de-8eea-c7e7c6ac33ab  Document 13: lastUpdateDate: 6 мая 2024\\n\\nВоз...   \n7f5239ee-0bc3-4a50-947c-38ca2a5e503e  Document 2: GigaChat. Python-библиотека для Gi...   \n99ada339-ead7-47b5-b1ec-901fd0d33a46  Document 14: lastUpdateDate: 23 мая 2024\\n\\nСо...   \nfd425afb-2450-4700-a5ce-79ede3a2140e  Document 14: lastUpdateDate: 23 мая 2024\\n\\nСо...   \nd4d3de2a-f4a6-4d2e-8848-2457946e903e  Document 11: lastUpdateDate: 5 августа 2024\\n\\...   \n56757e66-ca1f-4f45-b8b9-4eb67539e905  Document 13: lastUpdateDate: 6 мая 2024\\n\\nВоз...   \n35d1401f-0244-4df8-b5f4-236f68aea208  Document 4: Главная\\n\\nБаза знаний\\n\\nМедитаци...   \n5bba4617-ee9c-49ab-ad08-1f18132e0941  Document 3: 🦜️🔗 GigaChain (GigaChat + LangChai...   \nbff68126-9e59-43ea-b2a4-f0d3db063665  Document 4: Главная\\n\\nБаза знаний\\n\\nМедитаци...   \n62f5c1c4-93f8-4200-8471-27f17692ae52  Document 8: Вход в GigaChat\\n\\nПосле этого вы ...   \n6e30e080-ddd1-40f8-882c-b3965a70b5c4  Document 0: Как обновить GigaChain?\\n\\nВыполни...   \n9215f76a-76c7-4025-9cba-3b256bfce373  Document 5: ИНТЕГРИРУЙТЕ ИИ В СВОЙ БИЗНЕС ====...   \n5334a256-f72b-41a9-9781-eb7ca3d3b60d  Document 2: GigaChat. Python-библиотека для Gi...   \n581cd5db-ac3a-4055-a6fa-b16635319300  Document 9: Главная\\n\\nБаза знаний\\n\\nБаза зна...   \nd917f355-3522-46c0-a096-a9668a48a440  Document 3: 🦜️🔗 GigaChain (GigaChat + LangChai...   \n2dab3120-87ac-4358-91c9-b2d8b1af82eb  Document 3: 🦜️🔗 GigaChain (GigaChat + LangChai...   \n23669d3b-687e-4d61-99f8-0fd8ea899e38  Document 0: Как обновить GigaChain?\\n\\nВыполни...   \nd2a1fadb-803c-4dff-8329-31d54334b82c  Document 5: ИНТЕГРИРУЙТЕ ИИ В СВОЙ БИЗНЕС ====...   \n157a1e61-b9a0-4478-887d-28ad46814f9e  Document 0: Как обновить GigaChain?\\n\\nВыполни...   \n\n                                     conversation_history  \\\nid                                                          \n10733a5f-9a97-4def-a994-68f9edf44da5                   []   \n2af539e9-a78a-4bde-953c-4c794d5c58d7                   []   \nc04713dc-7002-42da-a6b9-0809d7c912cb                   []   \nf2fe07e2-3c80-4448-b46f-21c7ba4df54b                   []   \n16a1b9a7-da66-4292-8b0d-d9e6a6c7b404                   []   \nc181c8d4-84db-40a0-bdc7-1e67d48d18a7                   []   \n49d583f6-0cf2-4773-9e62-4e5bb8d4dff0                   []   \n8fa3b156-11eb-41a0-8caa-b902b7132808                   []   \n9a5c5e8a-c7b5-4267-9bad-6166e33eb4d0                   []   \n763c3dcd-c86f-47af-8c00-1207e3c18179                   []   \ncb298239-8161-46b0-b1c9-26cb77d9530d                   []   \nd791e3c4-d02c-4c78-b7e8-4b6ff7faf73b                   []   \n6e5b2362-1408-4f6e-933a-03abb608f4dd                   []   \neb5a7fd0-70cf-4fc0-8fd5-294f2f00ac59                   []   \n452d426f-98e4-456b-bec6-be97033169d7                   []   \nb2000a0c-afca-4afd-bb04-3c34e4672ace                   []   \n4689736c-9e69-41e6-882b-05f8e88d804b                   []   \n3bf6d35b-f094-4d83-9040-51ab83c829d4                   []   \n8e457e84-42b5-4d43-837e-68da91eb3e45                   []   \nde3ecd32-8a1d-44a6-8c2b-8d9bbdb5d629                   []   \n02dc97ec-7f7b-46c6-a7dc-255860287e50                   []   \n9205705b-0208-42de-8eea-c7e7c6ac33ab                   []   \n7f5239ee-0bc3-4a50-947c-38ca2a5e503e                   []   \n99ada339-ead7-47b5-b1ec-901fd0d33a46                   []   \nfd425afb-2450-4700-a5ce-79ede3a2140e                   []   \nd4d3de2a-f4a6-4d2e-8848-2457946e903e                   []   \n56757e66-ca1f-4f45-b8b9-4eb67539e905                   []   \n35d1401f-0244-4df8-b5f4-236f68aea208                   []   \n5bba4617-ee9c-49ab-ad08-1f18132e0941                   []   \nbff68126-9e59-43ea-b2a4-f0d3db063665                   []   \n62f5c1c4-93f8-4200-8471-27f17692ae52                   []   \n6e30e080-ddd1-40f8-882c-b3965a70b5c4                   []   \n9215f76a-76c7-4025-9cba-3b256bfce373                   []   \n5334a256-f72b-41a9-9781-eb7ca3d3b60d                   []   \n581cd5db-ac3a-4055-a6fa-b16635319300                   []   \nd917f355-3522-46c0-a096-a9668a48a440                   []   \n2dab3120-87ac-4358-91c9-b2d8b1af82eb                   []   \n23669d3b-687e-4d61-99f8-0fd8ea899e38                   []   \nd2a1fadb-803c-4dff-8329-31d54334b82c                   []   \n157a1e61-b9a0-4478-887d-28ad46814f9e                   []   \n\n                                                                               metadata  \nid                                                                                       \n10733a5f-9a97-4def-a994-68f9edf44da5  {'question_type': 'simple', 'seed_document_id'...  \n2af539e9-a78a-4bde-953c-4c794d5c58d7  {'question_type': 'simple', 'seed_document_id'...  \nc04713dc-7002-42da-a6b9-0809d7c912cb  {'question_type': 'simple', 'seed_document_id'...  \nf2fe07e2-3c80-4448-b46f-21c7ba4df54b  {'question_type': 'simple', 'seed_document_id'...  \n16a1b9a7-da66-4292-8b0d-d9e6a6c7b404  {'question_type': 'simple', 'seed_document_id'...  \nc181c8d4-84db-40a0-bdc7-1e67d48d18a7  {'question_type': 'simple', 'seed_document_id'...  \n49d583f6-0cf2-4773-9e62-4e5bb8d4dff0  {'question_type': 'simple', 'seed_document_id'...  \n8fa3b156-11eb-41a0-8caa-b902b7132808  {'question_type': 'simple', 'seed_document_id'...  \n9a5c5e8a-c7b5-4267-9bad-6166e33eb4d0  {'question_type': 'complex', 'seed_document_id...  \n763c3dcd-c86f-47af-8c00-1207e3c18179  {'question_type': 'complex', 'seed_document_id...  \ncb298239-8161-46b0-b1c9-26cb77d9530d  {'question_type': 'complex', 'seed_document_id...  \nd791e3c4-d02c-4c78-b7e8-4b6ff7faf73b  {'question_type': 'complex', 'seed_document_id...  \n6e5b2362-1408-4f6e-933a-03abb608f4dd  {'question_type': 'complex', 'seed_document_id...  \neb5a7fd0-70cf-4fc0-8fd5-294f2f00ac59  {'question_type': 'complex', 'seed_document_id...  \n452d426f-98e4-456b-bec6-be97033169d7  {'question_type': 'complex', 'seed_document_id...  \nb2000a0c-afca-4afd-bb04-3c34e4672ace  {'question_type': 'complex', 'seed_document_id...  \n4689736c-9e69-41e6-882b-05f8e88d804b  {'question_type': 'double', 'original_question...  \n3bf6d35b-f094-4d83-9040-51ab83c829d4  {'question_type': 'double', 'original_question...  \n8e457e84-42b5-4d43-837e-68da91eb3e45  {'question_type': 'double', 'original_question...  \nde3ecd32-8a1d-44a6-8c2b-8d9bbdb5d629  {'question_type': 'double', 'original_question...  \n02dc97ec-7f7b-46c6-a7dc-255860287e50  {'question_type': 'double', 'original_question...  \n9205705b-0208-42de-8eea-c7e7c6ac33ab  {'question_type': 'double', 'original_question...  \n7f5239ee-0bc3-4a50-947c-38ca2a5e503e  {'question_type': 'double', 'original_question...  \n99ada339-ead7-47b5-b1ec-901fd0d33a46  {'question_type': 'double', 'original_question...  \nfd425afb-2450-4700-a5ce-79ede3a2140e  {'question_type': 'distracting element', 'seed...  \nd4d3de2a-f4a6-4d2e-8848-2457946e903e  {'question_type': 'distracting element', 'seed...  \n56757e66-ca1f-4f45-b8b9-4eb67539e905  {'question_type': 'distracting element', 'seed...  \n35d1401f-0244-4df8-b5f4-236f68aea208  {'question_type': 'distracting element', 'seed...  \n5bba4617-ee9c-49ab-ad08-1f18132e0941  {'question_type': 'distracting element', 'seed...  \nbff68126-9e59-43ea-b2a4-f0d3db063665  {'question_type': 'distracting element', 'seed...  \n62f5c1c4-93f8-4200-8471-27f17692ae52  {'question_type': 'distracting element', 'seed...  \n6e30e080-ddd1-40f8-882c-b3965a70b5c4  {'question_type': 'distracting element', 'seed...  \n9215f76a-76c7-4025-9cba-3b256bfce373  {'question_type': 'situational', 'seed_documen...  \n5334a256-f72b-41a9-9781-eb7ca3d3b60d  {'question_type': 'situational', 'seed_documen...  \n581cd5db-ac3a-4055-a6fa-b16635319300  {'question_type': 'situational', 'seed_documen...  \nd917f355-3522-46c0-a096-a9668a48a440  {'question_type': 'situational', 'seed_documen...  \n2dab3120-87ac-4358-91c9-b2d8b1af82eb  {'question_type': 'situational', 'seed_documen...  \n23669d3b-687e-4d61-99f8-0fd8ea899e38  {'question_type': 'situational', 'seed_documen...  \nd2a1fadb-803c-4dff-8329-31d54334b82c  {'question_type': 'situational', 'seed_documen...  \n157a1e61-b9a0-4478-887d-28ad46814f9e  {'question_type': 'situational', 'seed_documen...  ",
      "text/html": "<div>\n<style scoped>\n    .dataframe tbody tr th:only-of-type {\n        vertical-align: middle;\n    }\n\n    .dataframe tbody tr th {\n        vertical-align: top;\n    }\n\n    .dataframe thead th {\n        text-align: right;\n    }\n</style>\n<table border=\"1\" class=\"dataframe\">\n  <thead>\n    <tr style=\"text-align: right;\">\n      <th></th>\n      <th>question</th>\n      <th>reference_answer</th>\n      <th>reference_context</th>\n      <th>conversation_history</th>\n      <th>metadata</th>\n    </tr>\n    <tr>\n      <th>id</th>\n      <th></th>\n      <th></th>\n      <th></th>\n      <th></th>\n      <th></th>\n    </tr>\n  </thead>\n  <tbody>\n    <tr>\n      <th>10733a5f-9a97-4def-a994-68f9edf44da5</th>\n      <td>Какие модели доступны для генерации в GigaChat?</td>\n      <td>Для генерации доступны модели: GigaChat Lite, ...</td>\n      <td>Document 11: lastUpdateDate: 5 августа 2024\\n\\...</td>\n      <td>[]</td>\n      <td>{'question_type': 'simple', 'seed_document_id'...</td>\n    </tr>\n    <tr>\n      <th>2af539e9-a78a-4bde-953c-4c794d5c58d7</th>\n      <td>Как долго действителен токен доступа для GigaC...</td>\n      <td>Токен действителен в течение 30 минут.</td>\n      <td>Document 10: lastUpdateDate: 19 июля 2024\\n\\ni...</td>\n      <td>[]</td>\n      <td>{'question_type': 'simple', 'seed_document_id'...</td>\n    </tr>\n    <tr>\n      <th>c04713dc-7002-42da-a6b9-0809d7c912cb</th>\n      <td>Как создать проект GigaChat API для физических...</td>\n      <td>Для создания проекта GigaChat API для физическ...</td>\n      <td>Document 10: lastUpdateDate: 19 июля 2024\\n\\ni...</td>\n      <td>[]</td>\n      <td>{'question_type': 'simple', 'seed_document_id'...</td>\n    </tr>\n    <tr>\n      <th>f2fe07e2-3c80-4448-b46f-21c7ba4df54b</th>\n      <td>Какие языки поддерживает GigaChat?</td>\n      <td>GigaChat поддерживает русский и английский языки.</td>\n      <td>Document 11: lastUpdateDate: 5 августа 2024\\n\\...</td>\n      <td>[]</td>\n      <td>{'question_type': 'simple', 'seed_document_id'...</td>\n    </tr>\n    <tr>\n      <th>16a1b9a7-da66-4292-8b0d-d9e6a6c7b404</th>\n      <td>Что такое GigaChain и какие возможности он пре...</td>\n      <td>GigaChain это фреймворк для разработки приложе...</td>\n      <td>Document 3: 🦜️🔗 GigaChain (GigaChat + LangChai...</td>\n      <td>[]</td>\n      <td>{'question_type': 'simple', 'seed_document_id'...</td>\n    </tr>\n    <tr>\n      <th>c181c8d4-84db-40a0-bdc7-1e67d48d18a7</th>\n      <td>Какое количество потоков доступно физическим л...</td>\n      <td>Физическим лицам для работы с API доступен оди...</td>\n      <td>Document 12: lastUpdateDate: 27 февраля 2024\\n...</td>\n      <td>[]</td>\n      <td>{'question_type': 'simple', 'seed_document_id'...</td>\n    </tr>\n    <tr>\n      <th>49d583f6-0cf2-4773-9e62-4e5bb8d4dff0</th>\n      <td>Как можно войти в GigaChat?</td>\n      <td>Войти в GigaChat можно двумя способами — по те...</td>\n      <td>Document 8: Вход в GigaChat\\n\\nПосле этого вы ...</td>\n      <td>[]</td>\n      <td>{'question_type': 'simple', 'seed_document_id'...</td>\n    </tr>\n    <tr>\n      <th>8fa3b156-11eb-41a0-8caa-b902b7132808</th>\n      <td>Какие задачи может выполнять GigaChat в бизнесе?</td>\n      <td>GigaChat может выполнять различные задачи в би...</td>\n      <td>Document 9: Главная\\n\\nБаза знаний\\n\\nБаза зна...</td>\n      <td>[]</td>\n      <td>{'question_type': 'simple', 'seed_document_id'...</td>\n    </tr>\n    <tr>\n      <th>9a5c5e8a-c7b5-4267-9bad-6166e33eb4d0</th>\n      <td>Какие конкретные механизмы медитации способств...</td>\n      <td>Медитация — это оздоровительная психологическа...</td>\n      <td>Document 4: Главная\\n\\nБаза знаний\\n\\nМедитаци...</td>\n      <td>[]</td>\n      <td>{'question_type': 'complex', 'seed_document_id...</td>\n    </tr>\n    <tr>\n      <th>763c3dcd-c86f-47af-8c00-1207e3c18179</th>\n      <td>Какие шаги необходимо выполнить для обновления...</td>\n      <td>Выполните команду bash pip install -U gigachai...</td>\n      <td>Document 0: Как обновить GigaChain?\\n\\nВыполни...</td>\n      <td>[]</td>\n      <td>{'question_type': 'complex', 'seed_document_id...</td>\n    </tr>\n    <tr>\n      <th>cb298239-8161-46b0-b1c9-26cb77d9530d</th>\n      <td>Какие существуют способы входа в GigaChat, есл...</td>\n      <td>Войти в GigaChat можно двумя способами — по те...</td>\n      <td>Document 8: Вход в GigaChat\\n\\nПосле этого вы ...</td>\n      <td>[]</td>\n      <td>{'question_type': 'complex', 'seed_document_id...</td>\n    </tr>\n    <tr>\n      <th>d791e3c4-d02c-4c78-b7e8-4b6ff7faf73b</th>\n      <td>Какие шаги необходимо выполнить юридическим ли...</td>\n      <td>Цензор может быть отключен только для юридичес...</td>\n      <td>Document 1: Общие понятия\\n\\nclient_id - идент...</td>\n      <td>[]</td>\n      <td>{'question_type': 'complex', 'seed_document_id...</td>\n    </tr>\n    <tr>\n      <th>6e5b2362-1408-4f6e-933a-03abb608f4dd</th>\n      <td>Какие бизнес-задачи может автоматизировать Gig...</td>\n      <td>GigaChat может выполнять следующие задачи для ...</td>\n      <td>Document 6: напарник в работе, учёбе и дома ==...</td>\n      <td>[]</td>\n      <td>{'question_type': 'complex', 'seed_document_id...</td>\n    </tr>\n    <tr>\n      <th>eb5a7fd0-70cf-4fc0-8fd5-294f2f00ac59</th>\n      <td>Объясните, почему GigaChat даёт разные ответы ...</td>\n      <td>Даже если спрашивать GigaChat одно и то же, ка...</td>\n      <td>Document 6: напарник в работе, учёбе и дома ==...</td>\n      <td>[]</td>\n      <td>{'question_type': 'complex', 'seed_document_id...</td>\n    </tr>\n    <tr>\n      <th>452d426f-98e4-456b-bec6-be97033169d7</th>\n      <td>Перечислите компоненты, которые входят в соста...</td>\n      <td>Фреймворк включает: Библиотеку GigaChain, Хаб ...</td>\n      <td>Document 3: 🦜️🔗 GigaChain (GigaChat + LangChai...</td>\n      <td>[]</td>\n      <td>{'question_type': 'complex', 'seed_document_id...</td>\n    </tr>\n    <tr>\n      <th>b2000a0c-afca-4afd-bb04-3c34e4672ace</th>\n      <td>Какие конкретные задачи в бизнесе может выполн...</td>\n      <td>GigaChat может выполнять множество задач в биз...</td>\n      <td>Document 5: ИНТЕГРИРУЙТЕ ИИ В СВОЙ БИЗНЕС ====...</td>\n      <td>[]</td>\n      <td>{'question_type': 'complex', 'seed_document_id...</td>\n    </tr>\n    <tr>\n      <th>4689736c-9e69-41e6-882b-05f8e88d804b</th>\n      <td>Как обновить GigaChain и как установить LangGr...</td>\n      <td>Для обновления GigaChain выполните команду bas...</td>\n      <td>Document 0: Как обновить GigaChain?\\n\\nВыполни...</td>\n      <td>[]</td>\n      <td>{'question_type': 'double', 'original_question...</td>\n    </tr>\n    <tr>\n      <th>3bf6d35b-f094-4d83-9040-51ab83c829d4</th>\n      <td>Какие способы входа в GigaChat существуют и чт...</td>\n      <td>Войти в GigaChat можно двумя способами — по те...</td>\n      <td>Document 8: Вход в GigaChat\\n\\nПосле этого вы ...</td>\n      <td>[]</td>\n      <td>{'question_type': 'double', 'original_question...</td>\n    </tr>\n    <tr>\n      <th>8e457e84-42b5-4d43-837e-68da91eb3e45</th>\n      <td>Какие модальности поддерживает GigaChat и как ...</td>\n      <td>Кроме текстовой модальности в GigaChat уже раб...</td>\n      <td>Document 13: lastUpdateDate: 6 мая 2024\\n\\nВоз...</td>\n      <td>[]</td>\n      <td>{'question_type': 'double', 'original_question...</td>\n    </tr>\n    <tr>\n      <th>de3ecd32-8a1d-44a6-8c2b-8d9bbdb5d629</th>\n      <td>Что такое client_id и где его найти, и как мож...</td>\n      <td>client_id - идентификатор проекта ГигаЧат АПИ,...</td>\n      <td>Document 1: Общие понятия\\n\\nclient_id - идент...</td>\n      <td>[]</td>\n      <td>{'question_type': 'double', 'original_question...</td>\n    </tr>\n    <tr>\n      <th>02dc97ec-7f7b-46c6-a7dc-255860287e50</th>\n      <td>Какие задачи может автоматизировать GigaChat в...</td>\n      <td>GigaChat обрабатывает данные и выдаёт финансов...</td>\n      <td>Document 5: ИНТЕГРИРУЙТЕ ИИ В СВОЙ БИЗНЕС ====...</td>\n      <td>[]</td>\n      <td>{'question_type': 'double', 'original_question...</td>\n    </tr>\n    <tr>\n      <th>9205705b-0208-42de-8eea-c7e7c6ac33ab</th>\n      <td>Какие языки поддерживает GigaChat и какую моде...</td>\n      <td>GigaChat поддерживает русский и английский язы...</td>\n      <td>Document 13: lastUpdateDate: 6 мая 2024\\n\\nВоз...</td>\n      <td>[]</td>\n      <td>{'question_type': 'double', 'original_question...</td>\n    </tr>\n    <tr>\n      <th>7f5239ee-0bc3-4a50-947c-38ca2a5e503e</th>\n      <td>Какие методы авторизации поддерживает библиоте...</td>\n      <td>Библиотека GigaChat поддерживает авторизацию с...</td>\n      <td>Document 2: GigaChat. Python-библиотека для Gi...</td>\n      <td>[]</td>\n      <td>{'question_type': 'double', 'original_question...</td>\n    </tr>\n    <tr>\n      <th>99ada339-ead7-47b5-b1ec-901fd0d33a46</th>\n      <td>Как детализация указаний влияет на точность от...</td>\n      <td>Чем более подробную инструкцию вы дадите серви...</td>\n      <td>Document 14: lastUpdateDate: 23 мая 2024\\n\\nСо...</td>\n      <td>[]</td>\n      <td>{'question_type': 'double', 'original_question...</td>\n    </tr>\n    <tr>\n      <th>fd425afb-2450-4700-a5ce-79ede3a2140e</th>\n      <td>Как можно повысить вероятность получения подхо...</td>\n      <td>Создавайте промпты с учетом приведенных рекоме...</td>\n      <td>Document 14: lastUpdateDate: 23 мая 2024\\n\\nСо...</td>\n      <td>[]</td>\n      <td>{'question_type': 'distracting element', 'seed...</td>\n    </tr>\n    <tr>\n      <th>d4d3de2a-f4a6-4d2e-8848-2457946e903e</th>\n      <td>Какие модели доступны для генерации текста в с...</td>\n      <td>Для генерации доступны модели: GigaChat Lite, ...</td>\n      <td>Document 11: lastUpdateDate: 5 августа 2024\\n\\...</td>\n      <td>[]</td>\n      <td>{'question_type': 'distracting element', 'seed...</td>\n    </tr>\n    <tr>\n      <th>56757e66-ca1f-4f45-b8b9-4eb67539e905</th>\n      <td>Какие языки поддерживает GigaChat, если пользо...</td>\n      <td>GigaChat поддерживает русский и английский языки.</td>\n      <td>Document 13: lastUpdateDate: 6 мая 2024\\n\\nВоз...</td>\n      <td>[]</td>\n      <td>{'question_type': 'distracting element', 'seed...</td>\n    </tr>\n    <tr>\n      <th>35d1401f-0244-4df8-b5f4-236f68aea208</th>\n      <td>Какая поза рекомендуется для медитации от стра...</td>\n      <td>Если вы сидите, то стопы должны полностью каса...</td>\n      <td>Document 4: Главная\\n\\nБаза знаний\\n\\nМедитаци...</td>\n      <td>[]</td>\n      <td>{'question_type': 'distracting element', 'seed...</td>\n    </tr>\n    <tr>\n      <th>5bba4617-ee9c-49ab-ad08-1f18132e0941</th>\n      <td>Какие задачи помогает решать библиотека GigaCh...</td>\n      <td>Библиотека упростит интеграцию вашего приложен...</td>\n      <td>Document 3: 🦜️🔗 GigaChain (GigaChat + LangChai...</td>\n      <td>[]</td>\n      <td>{'question_type': 'distracting element', 'seed...</td>\n    </tr>\n    <tr>\n      <th>bff68126-9e59-43ea-b2a4-f0d3db063665</th>\n      <td>Какие позы для медитации от страха и тревоги р...</td>\n      <td>Если вы сидите, то стопы должны полностью каса...</td>\n      <td>Document 4: Главная\\n\\nБаза знаний\\n\\nМедитаци...</td>\n      <td>[]</td>\n      <td>{'question_type': 'distracting element', 'seed...</td>\n    </tr>\n    <tr>\n      <th>62f5c1c4-93f8-4200-8471-27f17692ae52</th>\n      <td>Какие шаги необходимо выполнить для входа в Gi...</td>\n      <td>Справа в окне авторизации находится QR-код, ко...</td>\n      <td>Document 8: Вход в GigaChat\\n\\nПосле этого вы ...</td>\n      <td>[]</td>\n      <td>{'question_type': 'distracting element', 'seed...</td>\n    </tr>\n    <tr>\n      <th>6e30e080-ddd1-40f8-882c-b3965a70b5c4</th>\n      <td>Как обновить GigaChain, если у меня уже устано...</td>\n      <td>Выполните команду bash pip install -U gigachai...</td>\n      <td>Document 0: Как обновить GigaChain?\\n\\nВыполни...</td>\n      <td>[]</td>\n      <td>{'question_type': 'distracting element', 'seed...</td>\n    </tr>\n    <tr>\n      <th>9215f76a-76c7-4025-9cba-3b256bfce373</th>\n      <td>Менеджер крупного банка здесь. Обучаю новых со...</td>\n      <td>В юридической сфере GigaChat может выполнять у...</td>\n      <td>Document 5: ИНТЕГРИРУЙТЕ ИИ В СВОЙ БИЗНЕС ====...</td>\n      <td>[]</td>\n      <td>{'question_type': 'situational', 'seed_documen...</td>\n    </tr>\n    <tr>\n      <th>5334a256-f72b-41a9-9781-eb7ca3d3b60d</th>\n      <td>Привет! Я интегрирую нейросетевую модель GigaC...</td>\n      <td>Для отключения проверки сертификатов передайте...</td>\n      <td>Document 2: GigaChat. Python-библиотека для Gi...</td>\n      <td>[]</td>\n      <td>{'question_type': 'situational', 'seed_documen...</td>\n    </tr>\n    <tr>\n      <th>581cd5db-ac3a-4055-a6fa-b16635319300</th>\n      <td>Здравствуйте, я менеджер по продукту в крупном...</td>\n      <td>Даже если спрашивать GigaChat одно и то же, ка...</td>\n      <td>Document 9: Главная\\n\\nБаза знаний\\n\\nБаза зна...</td>\n      <td>[]</td>\n      <td>{'question_type': 'situational', 'seed_documen...</td>\n    </tr>\n    <tr>\n      <th>d917f355-3522-46c0-a096-a9668a48a440</th>\n      <td>Привет, я разрабатываю приложение и пытаюсь ин...</td>\n      <td>Чат-бот на базе GigaChat с потоковой генерацие...</td>\n      <td>Document 3: 🦜️🔗 GigaChain (GigaChat + LangChai...</td>\n      <td>[]</td>\n      <td>{'question_type': 'situational', 'seed_documen...</td>\n    </tr>\n    <tr>\n      <th>2dab3120-87ac-4358-91c9-b2d8b1af82eb</th>\n      <td>Здравствуйте! Я работаю над созданием нового а...</td>\n      <td>GigaChain это фреймворк для разработки приложе...</td>\n      <td>Document 3: 🦜️🔗 GigaChain (GigaChat + LangChai...</td>\n      <td>[]</td>\n      <td>{'question_type': 'situational', 'seed_documen...</td>\n    </tr>\n    <tr>\n      <th>23669d3b-687e-4d61-99f8-0fd8ea899e38</th>\n      <td>Здравствуйте, подскажите, пожалуйста, как обно...</td>\n      <td>Выполните команду bash pip install -U gigachai...</td>\n      <td>Document 0: Как обновить GigaChain?\\n\\nВыполни...</td>\n      <td>[]</td>\n      <td>{'question_type': 'situational', 'seed_documen...</td>\n    </tr>\n    <tr>\n      <th>d2a1fadb-803c-4dff-8329-31d54334b82c</th>\n      <td>Здравствуйте! Я финансовый аналитик, и наша фи...</td>\n      <td>GigaChat может ускорить процессы, автоматизиро...</td>\n      <td>Document 5: ИНТЕГРИРУЙТЕ ИИ В СВОЙ БИЗНЕС ====...</td>\n      <td>[]</td>\n      <td>{'question_type': 'situational', 'seed_documen...</td>\n    </tr>\n    <tr>\n      <th>157a1e61-b9a0-4478-887d-28ad46814f9e</th>\n      <td>Привет! Я готовлюсь к миграции проекта с LangC...</td>\n      <td>Выполните команду bash pip install -U gigachai...</td>\n      <td>Document 0: Как обновить GigaChain?\\n\\nВыполни...</td>\n      <td>[]</td>\n      <td>{'question_type': 'situational', 'seed_documen...</td>\n    </tr>\n  </tbody>\n</table>\n</div>"
     },
     "execution_count": 20,
     "metadata": {},
     "output_type": "execute_result"
    }
   ],
   "source": [
    "df"
   ],
   "metadata": {
    "collapsed": false
   }
  },
  {
   "cell_type": "code",
   "execution_count": 16,
   "outputs": [],
   "source": [
    "df.to_csv(\"dataset.csv\")"
   ],
   "metadata": {
    "collapsed": false
   }
  },
  {
   "cell_type": "markdown",
   "source": [
    "Ура! Мы сделали синтетический датасет. Теперь нужно его просмотреть, почистить и переходить к следующим шагам:\n",
    "1. [Создание датасета в GigaLogger](gigalogger_create_dataset.ipynb)\n",
    "2. [Прогон датасета и получение оценок ответам](evaluation.ipynb)"
   ],
   "metadata": {
    "collapsed": false
   }
  }
 ],
 "metadata": {
  "kernelspec": {
   "display_name": "Python 3",
   "language": "python",
   "name": "python3"
  },
  "language_info": {
   "codemirror_mode": {
    "name": "ipython",
    "version": 2
   },
   "file_extension": ".py",
   "mimetype": "text/x-python",
   "name": "python",
   "nbconvert_exporter": "python",
   "pygments_lexer": "ipython2",
   "version": "2.7.6"
  }
 },
 "nbformat": 4,
 "nbformat_minor": 0
}
