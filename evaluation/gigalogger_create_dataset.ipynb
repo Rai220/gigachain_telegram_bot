{
 "cells": [
  {
   "cell_type": "markdown",
   "source": [
    "# Загрузка датасета в GigaLogger\n",
    "В этом ноутбуке мы загрузим датасет для оценки в GigaLogger\n",
    "Датасет мы сгенерировали на прошлом шаге [generate_dataset.ipynb](generate_dataset.ipynb)\n",
    "После чего я его немного отчистил от плохо сгенерированных вопросов. Хороших вопросов вышло 35, при 40 сгенерированных."
   ],
   "metadata": {
    "collapsed": false
   }
  },
  {
   "cell_type": "code",
   "execution_count": null,
   "outputs": [],
   "source": [
    "!pip install pandas"
   ],
   "metadata": {
    "collapsed": false
   }
  },
  {
   "cell_type": "code",
   "execution_count": 2,
   "metadata": {
    "collapsed": true
   },
   "outputs": [],
   "source": [
    "import os\n",
    "os.environ[\"LANGFUSE_HOST\"] = \"https://gigalogger.demo.sberdevices.ru\"\n",
    "os.environ[\"LANGFUSE_PUBLIC_KEY\"] = \"...\"\n",
    "os.environ[\"LANGFUSE_SECRET_KEY\"] = \"...\""
   ]
  },
  {
   "cell_type": "code",
   "execution_count": 3,
   "outputs": [
    {
     "name": "stderr",
     "output_type": "stream",
     "text": [
      "/var/folders/2k/6hzf3ftn6n7fnn1z5dtpj3ym0000gn/T/ipykernel_5330/2981716559.py:13: FutureWarning: Series.__getitem__ treating keys as positions is deprecated. In a future version, integer keys will always be treated as labels (consistent with DataFrame behavior). To access a value by position, use `ser.iloc[pos]`\n",
      "  input=row[1],\n",
      "/var/folders/2k/6hzf3ftn6n7fnn1z5dtpj3ym0000gn/T/ipykernel_5330/2981716559.py:14: FutureWarning: Series.__getitem__ treating keys as positions is deprecated. In a future version, integer keys will always be treated as labels (consistent with DataFrame behavior). To access a value by position, use `ser.iloc[pos]`\n",
      "  expected_output=row[2]\n"
     ]
    }
   ],
   "source": [
    "from langfuse import Langfuse\n",
    "import pandas as pd\n",
    "\n",
    "DATASET_NAME = \"rag_dataset\"\n",
    "\n",
    "langfuse = Langfuse()\n",
    "langfuse.create_dataset(name=DATASET_NAME)\n",
    "\n",
    "df = pd.read_csv(\"dataset_cleared.csv\")\n",
    "for index, row in df.iterrows():\n",
    "    langfuse.create_dataset_item(\n",
    "        dataset_name=DATASET_NAME,\n",
    "        input=row[1],\n",
    "        expected_output=row[2]\n",
    "    )\n"
   ],
   "metadata": {
    "collapsed": false
   }
  },
  {
   "cell_type": "markdown",
   "source": [
    "Ура! Мы создали датасет. В [следующем шаге](evaluation.ipynb) мы рассмотрим как оценивать наш RAG с помощью него.\n",
    "\n",
    "Посмотреть созданный датасет можно тут: https://gigalogger.demo.sberdevices.ru/\n",
    "![image.png](media/dataset_screen.png)"
   ],
   "metadata": {
    "collapsed": false
   }
  }
 ],
 "metadata": {
  "kernelspec": {
   "display_name": "Python 3",
   "language": "python",
   "name": "python3"
  },
  "language_info": {
   "codemirror_mode": {
    "name": "ipython",
    "version": 2
   },
   "file_extension": ".py",
   "mimetype": "text/x-python",
   "name": "python",
   "nbconvert_exporter": "python",
   "pygments_lexer": "ipython2",
   "version": "2.7.6"
  }
 },
 "nbformat": 4,
 "nbformat_minor": 0
}
