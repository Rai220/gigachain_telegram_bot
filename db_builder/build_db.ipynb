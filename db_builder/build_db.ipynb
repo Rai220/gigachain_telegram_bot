{
 "cells": [
  {
   "cell_type": "code",
   "execution_count": 5,
   "metadata": {},
   "outputs": [
    {
     "data": {
      "text/plain": [
       "True"
      ]
     },
     "execution_count": 5,
     "metadata": {},
     "output_type": "execute_result"
    }
   ],
   "source": [
    "from dotenv import load_dotenv, find_dotenv\n",
    "load_dotenv(find_dotenv())"
   ]
  },
  {
   "cell_type": "code",
   "execution_count": 6,
   "metadata": {},
   "outputs": [
    {
     "name": "stderr",
     "output_type": "stream",
     "text": [
      "/Users/19563044/Documents/giga/gigachain_telegram_bot/venv/lib/python3.12/site-packages/pinecone/data/index.py:1: TqdmWarning: IProgress not found. Please update jupyter and ipywidgets. See https://ipywidgets.readthedocs.io/en/stable/user_install.html\n",
      "  from tqdm.autonotebook import tqdm\n"
     ]
    }
   ],
   "source": [
    "import os\n",
    "from pinecone import Pinecone, ServerlessSpec\n",
    "\n",
    "pinecone_api_key = os.environ.get(\"PINECONE_API_KEY\")\n",
    "pc = Pinecone(api_key=pinecone_api_key)"
   ]
  },
  {
   "cell_type": "code",
   "execution_count": 7,
   "metadata": {},
   "outputs": [],
   "source": [
    "import time\n",
    "\n",
    "index_name = \"gigachain-test-index-gpt-7\"  # change if desired\n",
    "\n",
    "existing_indexes = [index_info[\"name\"] for index_info in pc.list_indexes()]\n",
    "\n",
    "if index_name not in existing_indexes:\n",
    "    pc.create_index(\n",
    "        name=index_name,\n",
    "        dimension=1536,\n",
    "        metric=\"cosine\",\n",
    "        spec=ServerlessSpec(cloud=\"aws\", region=\"us-east-1\"),\n",
    "    )\n",
    "    while not pc.describe_index(index_name).status[\"ready\"]:\n",
    "        time.sleep(1)\n",
    "\n",
    "index = pc.Index(index_name)"
   ]
  },
  {
   "cell_type": "code",
   "execution_count": 8,
   "metadata": {},
   "outputs": [],
   "source": [
    "# from langchain_community.embeddings.gigachat import GigaChatEmbeddings\n",
    "# embeddings = GigaChatEmbeddings(model=\"EmbeddingsGigaR\")\n",
    "from langchain_openai.embeddings import OpenAIEmbeddings\n",
    "embeddings = OpenAIEmbeddings()\n",
    "\n",
    "from langchain_pinecone import PineconeVectorStore\n",
    "vector_store = PineconeVectorStore(index=index, embedding=embeddings)"
   ]
  },
  {
   "cell_type": "code",
   "execution_count": 9,
   "metadata": {},
   "outputs": [
    {
     "name": "stderr",
     "output_type": "stream",
     "text": [
      "21it [00:02,  9.07it/s]"
     ]
    },
    {
     "name": "stdout",
     "output_type": "stream",
     "text": [
      "Total documents: 111\n"
     ]
    },
    {
     "name": "stderr",
     "output_type": "stream",
     "text": [
      "\n"
     ]
    }
   ],
   "source": [
    "from langchain_community.document_loaders import UnstructuredMarkdownLoader\n",
    "import os\n",
    "import tqdm\n",
    "markdown_path = \"mdx_docs/\"\n",
    "\n",
    "docuemnts = []\n",
    "# Iterate all mdx file in subdirectories\n",
    "for root, dirs, files in tqdm.tqdm(os.walk(markdown_path)):\n",
    "    for file in files:\n",
    "        if file.endswith(\".mdx\") or file.endswith(\".md\"):\n",
    "            loader = UnstructuredMarkdownLoader(os.path.join(root, file))\n",
    "            document = loader.load()\n",
    "            for doc in document:\n",
    "                first_line = doc.page_content.split(\"\\n\")[0]\n",
    "                if first_line.startswith(\"URL: \"):\n",
    "                    doc.metadata['source'] = first_line[5:]\n",
    "            docuemnts.append(document)\n",
    "print(f\"Total documents: {len(docuemnts)}\")"
   ]
  },
  {
   "cell_type": "code",
   "execution_count": 11,
   "metadata": {},
   "outputs": [
    {
     "name": "stdout",
     "output_type": "stream",
     "text": [
      "Documents splited. Count: 116\n"
     ]
    }
   ],
   "source": [
    "from langchain.text_splitter import RecursiveCharacterTextSplitter\n",
    "\n",
    "docs_list = [item for sublist in docuemnts for item in sublist]\n",
    "text_splitter = RecursiveCharacterTextSplitter(chunk_size=16000, chunk_overlap=500)\n",
    "doc_splits = text_splitter.split_documents(docs_list)\n",
    "print(f\"Documents splited. Count: {len(doc_splits)}\")"
   ]
  },
  {
   "cell_type": "markdown",
   "metadata": {},
   "source": [
    "# Обновим все ссылки на реальные URL"
   ]
  },
  {
   "cell_type": "code",
   "execution_count": 12,
   "metadata": {},
   "outputs": [],
   "source": [
    "links = {\n",
    "    \"mdx_docs/main_faq.mdx\": \"https://giga.chat/help/articles/faq\",\n",
    "    \"mdx_docs/faq/faq.mdx\": \"https://giga.chat/help/articles/faq\",\n",
    "    \"mdx_docs/course/\": \"https://courses.sberuniversity.ru/llm-gigachat/\",\n",
    "    \"mdx_docs/external/gigachat_readme.mdx\": \"https://github.com/ai-forever/gigachat\",\n",
    "    \"mdx_docs/external/gigachain_readme.mdx\": \"https://github.com/ai-forever/gigachain\",\n",
    "    \"mdx_docs/gigachat/prompts-hub/\": \"https://developers.sber.ru/docs/ru/gigachat/prompts-hub/overview\",\n",
    "    \"mdx_docs/gigachat/api/\": \"https://developers.sber.ru/docs/ru/gigachat/api/reference/rest/gigachat-api\",\n",
    "    \"mdx_docs/gigachat/individuals-quickstart.mdx\": \"https://giga.chat/help/articles/how-to-start-work-with-gigachat\",\n",
    "    \"mdx_docs/gigachat_help_scrapper/b2b.mdx\": \"https://giga.chat/b2b\",\n",
    "    \"mdx_docs/gigachat/models.mdx\": \"https://developers.sber.ru/docs/ru/gigachat/models\",\n",
    "    \"mdx_docs/gigachat/certificates.mdx\": \"https://developers.sber.ru/docs/ru/gigachat/certificates\",\n",
    "    \"mdx_docs/gigachat/prompt-design.mdx\": \"https://developers.sber.ru/docs/ru/gigachat/prompt-design\",\n",
    "    \"mdx_docs/gigachat/about.mdx\": \"https://developers.sber.ru/docs/ru/gigachat/about\",\n",
    "    \"mdx_docs/gigachat/limitations.mdx\": \"https://developers.sber.ru/docs/ru/gigachat/limitations\",\n",
    "    \"mdx_docs/gigachat_help_scrapper/how_to_start.mdx\": \"https://giga.chat/help/articles/how-to-start-work-with-gigachat\",\n",
    "    \"mdx_docs/gigachat_help_scrapper\": \"https://developers.sber.ru/portal/products/gigachat-api\",\n",
    "    \"mdx_docs/gigachat/legal-quickstart.mdx\": \"https://developers.sber.ru/docs/ru/gigachat/legal-quickstart\",\n",
    "    \"mdx_docs/gigachat/changelog/latest.mdx\": \"https://developers.sber.ru/docs/ru/gigachat/changelog/latest\"\n",
    "}\n",
    "\n",
    "for doc in doc_splits:\n",
    "    source = doc.metadata[\"source\"]\n",
    "    if source.startswith(\"https://\"):\n",
    "        continue\n",
    "    updated = False\n",
    "    for link, url in links.items():\n",
    "        if source.startswith(link):\n",
    "            doc.metadata[\"source\"] = url\n",
    "            # print(\"Updated source link:\", source, \"->\", url)\n",
    "            updated = True\n",
    "    if not updated:\n",
    "        print(\"!!! Not updated source link:\", source)"
   ]
  },
  {
   "cell_type": "code",
   "execution_count": 13,
   "metadata": {},
   "outputs": [
    {
     "name": "stdout",
     "output_type": "stream",
     "text": [
      "OK\n"
     ]
    }
   ],
   "source": [
    "from uuid import uuid4\n",
    "uuids = [str(uuid4()) for _ in range(len(doc_splits))]\n",
    "vector_store.add_documents(documents=doc_splits, ids=uuids)\n",
    "retriever = vector_store.as_retriever()\n",
    "print(\"OK\")"
   ]
  }
 ],
 "metadata": {
  "kernelspec": {
   "display_name": "venv",
   "language": "python",
   "name": "python3"
  },
  "language_info": {
   "codemirror_mode": {
    "name": "ipython",
    "version": 3
   },
   "file_extension": ".py",
   "mimetype": "text/x-python",
   "name": "python",
   "nbconvert_exporter": "python",
   "pygments_lexer": "ipython3",
   "version": "3.12.5"
  }
 },
 "nbformat": 4,
 "nbformat_minor": 2
}
